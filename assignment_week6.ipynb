{
  "nbformat": 4,
  "nbformat_minor": 0,
  "metadata": {
    "colab": {
      "provenance": [],
      "authorship_tag": "ABX9TyPEvEjzxopzibcFwwoMDbFv",
      "include_colab_link": true
    },
    "kernelspec": {
      "name": "python3",
      "display_name": "Python 3"
    },
    "language_info": {
      "name": "python"
    }
  },
  "cells": [
    {
      "cell_type": "markdown",
      "metadata": {
        "id": "view-in-github",
        "colab_type": "text"
      },
      "source": [
        "<a href=\"https://colab.research.google.com/github/dechendorji2025/Assignment-week-6/blob/main/assignment_week6.ipynb\" target=\"_parent\"><img src=\"https://colab.research.google.com/assets/colab-badge.svg\" alt=\"Open In Colab\"/></a>"
      ]
    },
    {
      "cell_type": "code",
      "execution_count": 10,
      "metadata": {
        "colab": {
          "base_uri": "https://localhost:8080/"
        },
        "id": "CZOWi1ip4ype",
        "outputId": "83db185e-ca2c-4007-e35d-7f5669ca048d"
      },
      "outputs": [
        {
          "output_type": "stream",
          "name": "stdout",
          "text": [
            "Enter your age: 78\n",
            "Seniors aged 60 and above pay Nu. 400.\n",
            "Enter the day of the week (e.g., Monday, Tuesday): wenesday\n",
            "Your final ticket price is Nu. 400.\n",
            "Guess the number: 7\n",
            "Congratulations! You guessed the correct number.\n",
            "Name: Dechen Dorji\n",
            "Gender: male\n",
            "Country: Sarpang\n",
            "Enter your marks (0-100): 90\n",
            "Your grade is A\n"
          ]
        }
      ],
      "source": [
        "# Assignment 1\n",
        "#  Cinema Ticket Price Calculator\n",
        "\n",
        "# Prompt user to enter age\n",
        "age = int(input(\"Enter your age: \"))\n",
        "\n",
        "# Determine ticket price\n",
        "if age < 12:\n",
        "    price = 300\n",
        "    print(f\"Children below 12 years pay Nu. {price}.\")\n",
        "elif 12 <= age <= 17:\n",
        "    price = 500\n",
        "    print(f\"Teens between 12 - 17 years pay Nu. {price}.\")\n",
        "elif 18 <= age <= 59:\n",
        "    price = 800\n",
        "    print(f\"Adults between 18 and 59 years pay Nu. {price}.\")\n",
        "else:\n",
        "    price = 400\n",
        "    print(f\"Seniors aged 60 and above pay Nu. {price}.\")\n",
        "\n",
        "# Ask user to enter the day\n",
        "today = input(\"Enter the day of the week (e.g., Monday, Tuesday): \").strip().capitalize()\n",
        "\n",
        "# Apply Wednesday discount\n",
        "if today == \"Wednesday\":\n",
        "    price -= 100\n",
        "    print(f\"It's Wednesday! Everyone gets Nu. 100 off.\")\n",
        "\n",
        "# Final output\n",
        "print(f\"Your final ticket price is Nu. {price}.\")\n",
        "\n",
        "# Assignment 2: Guessng the number\n",
        "# Target number to guess\n",
        "correct_number = 7\n",
        "\n",
        "# Initialize user's guess\n",
        "guess = None\n",
        "\n",
        "# Keep asking until the correct number is guessed\n",
        "while guess != correct_number:\n",
        "    guess = int(input(\"Guess the number: \"))\n",
        "    if guess != correct_number:\n",
        "        print(\"Wrong guess. Try again!\")\n",
        "\n",
        "# Congratulate the user\n",
        "print(\"Congratulations! You guessed the correct number.\")\n",
        "\n",
        "#assignment 3\n",
        "\n",
        "\n",
        "# keyword arguments\n",
        "def describe_student(name, gender, country):\n",
        "    print(f\"Name: {name}\")\n",
        "    print(f\"Gender: {gender}\")\n",
        "    print(f\"Country: {country}\")\n",
        "\n",
        "describe_student(country=\"Sarpang\", gender=\"male\", name=\"Dechen Dorji\")\n",
        "\n",
        "#assignment 4\n",
        "def calculate_grade(marks):\n",
        "    \"\"\"Takes marks and returns the letter grade.\"\"\"\n",
        "    if marks >= 90:\n",
        "        return 'A'\n",
        "    elif marks >= 80:\n",
        "        return 'B'\n",
        "    elif marks >= 70:\n",
        "        return 'C'\n",
        "    elif marks >= 60:\n",
        "        return 'D'\n",
        "    else:\n",
        "        return 'F'\n",
        "user_marks = int(input(\"Enter your marks (0-100): \"))\n",
        "\n",
        "# Get the grade from the function\n",
        "grade = calculate_grade(user_marks)\n",
        "\n",
        "# Print the final result\n",
        "print(f\"Your grade is {grade}\")"
      ]
    }
  ]
}